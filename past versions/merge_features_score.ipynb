{
 "cells": [
  {
   "cell_type": "code",
   "execution_count": 88,
   "id": "299b1427",
   "metadata": {},
   "outputs": [],
   "source": [
    "# Packages\n",
    "import pandas as pd\n",
    "import os\n",
    "import geopandas as gpd\n",
    "import matplotlib.pyplot as plt\n",
    "import seaborn as sns\n",
    "import numpy as np\n",
    "from sklearn.preprocessing import MinMaxScaler\n",
    "import hdbscan\n",
    "\n",
    "os.chdir(\"C:/Users/Soledad.Acuna/Desktop/tesis/data\")\n",
    "\n",
    "# Load the data\n",
    "sociodemo = pd.read_excel(\"sociodemographic.xlsx\")\n",
    "banks = pd.read_excel(\"banks_location.xlsx\")\n",
    "business = pd.read_excel(\"business.xlsx\")"
   ]
  },
  {
   "cell_type": "markdown",
   "id": "365aeda6",
   "metadata": {},
   "source": [
    "SECTION 1: Clean and aggregate each data frame by district "
   ]
  },
  {
   "cell_type": "markdown",
   "id": "cd89af0d",
   "metadata": {},
   "source": [
    "1. BAKNS"
   ]
  },
  {
   "cell_type": "markdown",
   "id": "fbe04e89",
   "metadata": {},
   "source": [
    "- From CUSEC column, create district column.\n",
    "- Normalized names of the entity column and keep only the 5 competitors banks (Sabadell, BBVA, Santander, CaixaBank and Bankinter).\n",
    "- Aggregate the data by district and entity, adding the number of branches.\n",
    "- Create a new data frame (banks_district_final) that contains the number of banks (total and by entity) per district."
   ]
  },
  {
   "cell_type": "code",
   "execution_count": 89,
   "id": "c5b3e194",
   "metadata": {},
   "outputs": [],
   "source": [
    "banks['CUSEC'] = banks['CUSEC'].astype(str)\n",
    "# Create 'district' column (CUSEC without the last 3 digits)\n",
    "banks['district'] = banks['CUSEC'].str[:-3]\n",
    "\n",
    "# Function to normalize names of banks in the \"ENTITY\" column\n",
    "def normalize_entity(e):\n",
    "    e = str(e).strip().upper()\n",
    "    if e == 'CAIXABANK':\n",
    "        return 'CaixaBank'\n",
    "    elif e in ['SANTANDER', 'BANCO SANTANDER']:\n",
    "        return 'Santander'\n",
    "    elif e in ['BBVA', 'BANCO BILBAO VIZCAYA ARGENTARIA']:\n",
    "        return 'BBVA'\n",
    "    elif e in ['BANCO DE SABADELL', 'SABADELL']:\n",
    "        return 'Sabadell'\n",
    "    elif e == 'BANKINTER':\n",
    "        return 'Bankinter'\n",
    "    else:\n",
    "        return 'Others'\n",
    "    \n",
    "# Apply the function to the original column\n",
    "banks['entity'] = banks['ENTITY'].apply(normalize_entity)\n",
    "\n",
    "# Keep only the 5 top entities\n",
    "banks = banks[banks['entity'] != 'Others']\n",
    "\n",
    "# Group by district and entity, adding the number of branches\n",
    "banks_district = banks.groupby(['district', 'entity'])['NUM_BRANCHES'].sum().reset_index()\n",
    "\n",
    "# Pivot so that each entity is in a column\n",
    "banks_district_final = banks_district.pivot(index='district', columns='entity', values='NUM_BRANCHES').fillna(0)\n",
    "\n",
    "# Rename columns\n",
    "banks_district_final.columns.name = None\n",
    "banks_district_final = banks_district_final.rename(columns={'CaixaBank': 'banks_CaixaBank', 'Santander': 'banks_Santander', 'Sabadell': 'banks_Sabadell', 'Bankinter': 'banks_Bankinter', 'BBVA': 'Banks_BBVA'})\n",
    "\n",
    "# Create column with the total number of banks (adding the 5 entity columns)\n",
    "banks_district_final['banks_total'] = banks_district_final.sum(axis=1)\n",
    "\n",
    "# Reset index so that district is a column\n",
    "banks_district_final = banks_district_final.reset_index()"
   ]
  },
  {
   "cell_type": "markdown",
   "id": "79346557",
   "metadata": {},
   "source": [
    "2. SOCIODEMOGRAPHIC"
   ]
  },
  {
   "cell_type": "markdown",
   "id": "3b9bf8f2",
   "metadata": {},
   "source": [
    "- From CUSEC column, create district column.\n",
    "- Create \"high\" column which contains the number of high income people in each CUSEC.\n",
    "- Create “professional” column which contains the number of professionals in each CUSEC. This variable include managers, technicians, skilled workers and entrepreneurs.\n",
    "- To aggregate in a correct way \"high\" and \"professional\" columns in district level, we created weighted columns for both variables as the product of each one and the population on each CUSEC. Then, we aggregate this weighted variables and the total population to obtain district levels. Finally, to obtain the \"high\" and \"professionals\" columns in district terms, we divided both aggregated variables with the total population of each district.\n",
    "- Create new data frame (sociodemo_district_final) that contains \"high\", \"professionals\" and \"tot_pop\" per district. "
   ]
  },
  {
   "cell_type": "code",
   "execution_count": 90,
   "id": "7df4f807",
   "metadata": {},
   "outputs": [],
   "source": [
    "sociodemo['CUSEC'] = sociodemo['CUSEC'].astype(str)\n",
    "# Create 'district' column (CUSEC without the last 3 digits)\n",
    "sociodemo['district'] = sociodemo['CUSEC'].str[:-3]\n",
    "\n",
    "# Create columns\n",
    "sociodemo['high'] = (sociodemo['v_nse6'] + sociodemo['v_nse7'] + sociodemo['v_nse8'] + sociodemo['v_nse9'])\n",
    "sociodemo['professionals'] = (sociodemo['v_deyap'] + sociodemo['v_tpcint'] + sociodemo['v_tprda'] + sociodemo['v_tcuap'] + sociodemo['v_emspr'] + sociodemo['v_atcim'] + sociodemo['v_emnpr'])\n",
    "\n",
    "# Name of the variables to be weighted \n",
    "variables = ['high', 'professionals']  \n",
    "\n",
    "# Create weighted columns\n",
    "for variable in variables:\n",
    "    sociodemo[f'{variable}_pond'] = sociodemo[variable] * sociodemo['tot_pob']\n",
    "\n",
    "# Group by district\n",
    "grouped = sociodemo.groupby('district').agg({\n",
    "    **{f'{v}_pond': 'sum' for v in variables},\n",
    "    'tot_pob': 'sum'\n",
    "}).reset_index()\n",
    "\n",
    "# Calculate the weighted district variables \n",
    "for variable in variables:\n",
    "    grouped[f'{variable}_district'] = grouped[f'{variable}_pond'] / grouped['tot_pob']\n",
    "\n",
    "# Keep only final columns and tot_pob\n",
    "final_columns = ['district', 'tot_pob'] + [f'{v}_district' for v in variables]\n",
    "sociodemo_district_final = grouped[final_columns]"
   ]
  },
  {
   "cell_type": "markdown",
   "id": "9c06a746",
   "metadata": {},
   "source": [
    "3. BUSINESS"
   ]
  },
  {
   "cell_type": "markdown",
   "id": "a722004d",
   "metadata": {},
   "source": [
    "- Fill missing values with 0, assuming that columns with missing values dont have companies in the respective category (num of companies, num of new companies, billing and profit ranges...).\n",
    "- From CUSEC column, create district column.\n",
    "- Aggregate all the data in district levels (all columns represent number of companies).\n",
    "- Previously, we obtained the top 10 sectors which starts with the letters: ('F', 'G', 'J', 'M', 'I', 'N', 'C', 'H', 'L', 'R').\n",
    "- We want to create a data frame that contain the following columns: Number of companies of the 10 top sectors, Number of New Companies of the top 10 sectors, Number of medium and big companies of the top 10 sectors and Number of High Profit Companies of the Top 10 sectors. For this, we create 4 subsets from the business df:\n",
    "1. Subset 1: use the columns of the business df that contain the Number of companies by sector and aggregate those of the 10 sectors to obtain NumCompanies_10S.\n",
    "2. Subset 2: use the columns of the business df that contain the Number of New companies by sector and aggregate those of the 10 sectors to obtain NumNewCompanies_10S.\n",
    "3. Subset 3: use the columns of the business df that contain the number of companies of each billing ranges by sector. However, this columns names are in division categories (01 to 99), so we created a dictionary and a function to match and replace each division (01 to 99) to each section (A to U) and selected only the columns associated to the top 10 sectors. Then we filtered by columns where the billing ranges represents medium and big companies (more than 5000001 billings). Finally we agregate that columns to obtain NumCompanies_ML_10S.\n",
    "4. Subset 4: use the columns of the business df that contain the number of companies of each profit ranges by sector. However, this columns names are in division categories (01 to 99) so we created a dictionary and a function to match and replace each division (01 to 99) to each section (A to U) and selected only the columns associated to the top 10 sectors. Then we filtered by columns where the profit ranges represents high profit companies (more than 100001 profits). Finally we agregate that columns to obtain NumCompanies_HP_10S.\n",
    "- Merge all subsets to create business_district_final wich contains 5 columns: district, NumCompanies_10S, NumNewCompanies_10S, NumCompanies_ML_10S and NumCompanies_HP_10S"
   ]
  },
  {
   "cell_type": "code",
   "execution_count": 91,
   "id": "1ef46798",
   "metadata": {},
   "outputs": [],
   "source": [
    "business.fillna(0, inplace=True)\n",
    "business['CUSEC'] = business['CUSEC'].astype(str)\n",
    "# Create 'district' column (CUSEC without the last 3 digits)\n",
    "business['district'] = business['CUSEC'].str[:-3]\n",
    "\n",
    "business = business.drop(columns=['CUSEC'])\n",
    "\n",
    "# Group by district and add all companies\n",
    "business_district = business.groupby('district').sum().reset_index()"
   ]
  },
  {
   "cell_type": "markdown",
   "id": "3513ea58",
   "metadata": {},
   "source": [
    "Subset 1: Number of Companies Top 10 sectors"
   ]
  },
  {
   "cell_type": "code",
   "execution_count": 92,
   "id": "79104a46",
   "metadata": {},
   "outputs": [],
   "source": [
    "# Select the columns that contain the Number of companies by sector\n",
    "cols1 = list(business_district.columns[:22])\n",
    "business_subset1 = business_district[cols1]\n",
    "\n",
    "# Letters of the 10 sectors\n",
    "letters = ('F', 'G', 'J', 'M', 'I', 'N', 'C', 'H', 'L', 'R')\n",
    "\n",
    "# Filter columns that begin with that letters\n",
    "filtered_columns = [col for col in business_subset1.columns if col.startswith(letters)]\n",
    "\n",
    "# Create a new df with that columns and district \n",
    "business_subset1 = business_subset1[['district'] + filtered_columns]\n",
    "\n",
    "# Aggregate that columns to obtain the number of companies of the 10 sectors by district\n",
    "sector_columns = [col for col in business_subset1.columns if col != 'district']\n",
    "business_subset1['NumCompanies_10S'] = business_subset1[sector_columns].sum(axis=1)\n",
    "\n",
    "# business_1 contains two columns: district and NumCompanies_10S\n",
    "business_1 = business_subset1[['district', 'NumCompanies_10S']]"
   ]
  },
  {
   "cell_type": "markdown",
   "id": "94edbb2a",
   "metadata": {},
   "source": [
    "Subset 2: Number of New Companies Top 10 sectors"
   ]
  },
  {
   "cell_type": "code",
   "execution_count": 93,
   "id": "b5a5c775",
   "metadata": {},
   "outputs": [],
   "source": [
    "# Select the columns that contain the Number of New companies by sector\n",
    "cols2 = ['district'] + list(business_district.columns[22:42])\n",
    "business_subset2 = business_district[cols2]\n",
    "\n",
    "# Letters of the 10 sectors\n",
    "letters = ('F', 'G', 'J', 'M', 'I', 'N', 'C', 'H', 'L', 'R')\n",
    "\n",
    "# Filter columns that begin with that letters\n",
    "filtered_columns = [col for col in business_subset2.columns if col.startswith(letters)]\n",
    "\n",
    "# Create a new df with that columns and district \n",
    "business_subset2 = business_subset2[['district'] + filtered_columns]\n",
    "\n",
    "# Aggregate that columns to obtain the number of new companies of the 10 sectors by district\n",
    "sector_columns = [col for col in business_subset2.columns if col != 'district']\n",
    "business_subset2['NumNewCompanies_10S'] = business_subset2[sector_columns].sum(axis=1)\n",
    "\n",
    "# business_2 contains two columns: district and NumNewCompanies_10S\n",
    "business_2 = business_subset2[['district', 'NumNewCompanies_10S']]"
   ]
  },
  {
   "cell_type": "markdown",
   "id": "624041a8",
   "metadata": {},
   "source": [
    "Subset 3: Number of Medium and Big Companies Top 10 sectors"
   ]
  },
  {
   "cell_type": "code",
   "execution_count": 94,
   "id": "bf01b2ed",
   "metadata": {},
   "outputs": [],
   "source": [
    "# Select the columns that contain the range of billings by sector \n",
    "cols3 = ['district'] + list(business_district.columns[528:1282])\n",
    "business_subset3 = business_district[cols3]\n",
    "\n",
    "import re\n",
    "# 1. Create the dictionary to match each division (01 to 99) to each section (A to U)\n",
    "# (the columns of billing ranges by sector are in division categories)\n",
    "division_to_section = {\n",
    "    'A': list(range(1, 4)),        # 01 a 03\n",
    "    'B': list(range(5, 10)),       # 05 a 09\n",
    "    'C': list(range(10, 34)),      # 10 a 33\n",
    "    'D': [35],                    # 35\n",
    "    'E': list(range(36, 40)),      # 36 a 39\n",
    "    'F': list(range(41, 44)),      # 41 a 43\n",
    "    'G': list(range(45, 48)),      # 45 a 47\n",
    "    'H': list(range(49, 54)),      # 49 a 53\n",
    "    'I': list(range(55, 57)),      # 55 a 56\n",
    "    'J': list(range(58, 64)),      # 58 a 63\n",
    "    'K': list(range(64, 67)),      # 64 a 66\n",
    "    'L': [68],                    # 68\n",
    "    'M': list(range(69, 76)),      # 69 a 75\n",
    "    'N': list(range(77, 83)),      # 77 a 82\n",
    "    'O': [84],                    # 84\n",
    "    'P': [85],                    # 85\n",
    "    'Q': list(range(86, 89)),      # 86 a 88\n",
    "    'R': list(range(90, 94)),      # 90 a 93\n",
    "    'S': list(range(94, 97)),      # 94 a 96\n",
    "    'T': [97],                    # 97\n",
    "    'U': [99],                    # 99\n",
    "}\n",
    "\n",
    "# 2. Function to map the number to the section code\n",
    "def map_to_section(col_name):\n",
    "    # Find the number at the start\n",
    "    match = re.match(r'^(\\d{2})_', col_name)\n",
    "    if match:\n",
    "        num = int(match.group(1))\n",
    "        for section, divisions in division_to_section.items():\n",
    "            if num in divisions:\n",
    "                # Replace the part before the first '_' with the section letter\n",
    "                parts = col_name.split('_')\n",
    "                new_col = section + '_' + '_'.join(parts[1:])\n",
    "                return new_col\n",
    "    return col_name  # If it doesn't match, return the original\n",
    "\n",
    "# 3. Apply the function to all columns\n",
    "new_columns = [map_to_section(col) for col in business_subset3.columns]\n",
    "\n",
    "# 4. Reassign column names\n",
    "business_subset3.columns = new_columns\n",
    "\n",
    "# Filter only columns that end with those texts that represents medium and big companies\n",
    "cols_big_medium = [col for col in business_subset3.columns if \n",
    "                   col.endswith('Between5000001And25000000_Billing') or\n",
    "                   col.endswith('Between25000001And50000000_Billing') or\n",
    "                   col.endswith('MoreThan50000000_Billing')]\n",
    "\n",
    "# Create the new df with this columns\n",
    "business_subset3 = business_subset3[['district'] + cols_big_medium]\n",
    "\n",
    "# Letters of the 10 sectors\n",
    "letters = ('F', 'G', 'J', 'M', 'I', 'N', 'C', 'H', 'L', 'R')\n",
    "\n",
    "# Filter columns that begin with that letters\n",
    "filtered_columns = [col for col in business_subset3.columns if col.startswith(letters)]\n",
    "\n",
    "# Create a new df with that columns and district\n",
    "business_subset3 = business_subset3[['district'] + filtered_columns]\n",
    "\n",
    "# Aggregate that columns to obtain the number of companies medium and big of the 10 sectors by district\n",
    "sector_columns = [col for col in business_subset3.columns if col != 'district']\n",
    "business_subset3['NumCompanies_ML_10S'] = business_subset3[sector_columns].sum(axis=1)\n",
    "\n",
    "# business_3 contains two columns: district and NumCompanies_ML_10S\n",
    "business_3 = business_subset3[['district', 'NumCompanies_ML_10S']]"
   ]
  },
  {
   "cell_type": "markdown",
   "id": "2a7a3f63",
   "metadata": {},
   "source": [
    "Subset 4: Number of High Profit Companies Top 10 sectors"
   ]
  },
  {
   "cell_type": "code",
   "execution_count": 95,
   "id": "f0ea4f5f",
   "metadata": {},
   "outputs": [],
   "source": [
    "# Select the columns that contain the range of profit by sector\n",
    "cols4 = ['district'] + list(business_district.columns[48:498])\n",
    "business_subset4 = business_district[cols4]\n",
    "\n",
    "import re\n",
    "# 1. Create the dictionary to match each division (01 to 99) to each section (A to U)\n",
    "# (the columns of profit ranges by sector are in division categories)\n",
    "division_to_section = {\n",
    "    'A': list(range(1, 4)),        # 01 a 03\n",
    "    'B': list(range(5, 10)),       # 05 a 09\n",
    "    'C': list(range(10, 34)),      # 10 a 33\n",
    "    'D': [35],                    # 35\n",
    "    'E': list(range(36, 40)),      # 36 a 39\n",
    "    'F': list(range(41, 44)),      # 41 a 43\n",
    "    'G': list(range(45, 48)),      # 45 a 47\n",
    "    'H': list(range(49, 54)),      # 49 a 53\n",
    "    'I': list(range(55, 57)),      # 55 a 56\n",
    "    'J': list(range(58, 64)),      # 58 a 63\n",
    "    'K': list(range(64, 67)),      # 64 a 66\n",
    "    'L': [68],                    # 68\n",
    "    'M': list(range(69, 76)),      # 69 a 75\n",
    "    'N': list(range(77, 83)),      # 77 a 82\n",
    "    'O': [84],                    # 84\n",
    "    'P': [85],                    # 85\n",
    "    'Q': list(range(86, 89)),      # 86 a 88\n",
    "    'R': list(range(90, 94)),      # 90 a 93\n",
    "    'S': list(range(94, 97)),      # 94 a 96\n",
    "    'T': [97],                    # 97\n",
    "    'U': [99],                    # 99\n",
    "}\n",
    "\n",
    "# 2. Function to map the number to the section code\n",
    "def map_to_section(col_name):\n",
    "    # Find the number at the start\n",
    "    match = re.match(r'^(\\d{2})_', col_name)\n",
    "    if match:\n",
    "        num = int(match.group(1))\n",
    "        for section, divisions in division_to_section.items():\n",
    "            if num in divisions:\n",
    "                # Replace the part before the first '_' with the section letter\n",
    "                parts = col_name.split('_')\n",
    "                new_col = section + '_' + '_'.join(parts[1:])\n",
    "                return new_col\n",
    "    return col_name  #  If it doesn't match, return the original\n",
    "\n",
    "# 3. Apply the function to all columns\n",
    "new_columns = [map_to_section(col) for col in business_subset4.columns]\n",
    "\n",
    "# 4. Reassign column names\n",
    "business_subset4.columns = new_columns\n",
    "\n",
    "# Filter only columns that end with those texts that represents high profit companies\n",
    "cols_profit = [col for col in business_subset4.columns if \n",
    "                   col.endswith('Between100001And500000_Profit') or\n",
    "                   col.endswith('Between500001And1000000_Profit') or\n",
    "                   col.endswith('MoreThan1000000_Profit')]\n",
    "\n",
    "# Create the new df with this columns\n",
    "business_subset4 = business_subset4[['district'] + cols_profit]\n",
    "\n",
    "# Letters of the 10 sectors\n",
    "letters = ('F', 'G', 'J', 'M', 'I', 'N', 'C', 'H', 'L', 'R')\n",
    "\n",
    "# Filter columns that begin with that letters\n",
    "filtered_columns = [col for col in business_subset4.columns if col.startswith(letters)]\n",
    "\n",
    "# Create a new df with that columns and district\n",
    "business_subset4 = business_subset4[['district'] + filtered_columns]\n",
    "\n",
    "# Aggregate that columns to obtain the number of companies with high profits of the 10 sectors by district\n",
    "sector_columns = [col for col in business_subset4.columns if col != 'district']\n",
    "business_subset4['NumCompanies_HP_10S'] = business_subset4[sector_columns].sum(axis=1)\n",
    "\n",
    "# business_4 contains two columns: district and NumCompanies_HP_10S\n",
    "business_4 = business_subset4[['district', 'NumCompanies_HP_10S']]"
   ]
  },
  {
   "cell_type": "code",
   "execution_count": 96,
   "id": "36d9dabd",
   "metadata": {},
   "outputs": [],
   "source": [
    "# Merge all subsets by the \"district\" column to obtain business_district_final\n",
    "business_district_final = business_1.merge(business_2, on='district', how='outer')\n",
    "business_district_final = business_district_final.merge(business_3, on='district', how='outer')\n",
    "business_district_final = business_district_final.merge(business_4, on='district', how='outer')"
   ]
  },
  {
   "cell_type": "markdown",
   "id": "1645654b",
   "metadata": {},
   "source": [
    "SECTION 2: MERGE"
   ]
  },
  {
   "cell_type": "markdown",
   "id": "07cde2a8",
   "metadata": {},
   "source": [
    "Merge the following datasets. The resulting dataset is called \"df\":\n",
    "- sociodemo_district_final\n",
    "- business_district_final\n",
    "- banks_district final"
   ]
  },
  {
   "cell_type": "code",
   "execution_count": 97,
   "id": "8039cfcf",
   "metadata": {},
   "outputs": [],
   "source": [
    "# Merge the three datasets into one per district\n",
    "df = sociodemo_district_final.merge(business_district_final, on='district', how='outer')\n",
    "df = df.merge(banks_district_final, on='district', how='left')\n",
    "# Replace NaNs presents in banks columns with 0, assuming there are no banks (or entity banks) in that district\n",
    "df.fillna(0, inplace=True)"
   ]
  },
  {
   "cell_type": "markdown",
   "id": "ec7ae939",
   "metadata": {},
   "source": [
    "SECTION 3: FEATURE ENGINEER"
   ]
  },
  {
   "cell_type": "markdown",
   "id": "3573751a",
   "metadata": {},
   "source": [
    "- Calculate ratios adjusting by population in sociodemographic variables and by the number of companies in the 10 sectors in business variables.\n",
    "- Create growth rate of companies of the 10 sectors \n",
    "- Scaled the features\n",
    "- Create composite scores: These capture both absolute frequency (number of scores) and relative density (percentage). This is because the bank may be interested in both market volume and target concentration."
   ]
  },
  {
   "cell_type": "code",
   "execution_count": 98,
   "id": "38ae9a15",
   "metadata": {},
   "outputs": [],
   "source": [
    "# Calculate ratios adjusting by population in sociodemographic variables\n",
    "df['high_district_ratio'] = df['high_district'] / df['tot_pob']\n",
    "df['professionals_district_ratio'] = df['professionals_district'] / df['tot_pob']\n",
    "\n",
    "# Calculate the growth rate of companies of the 10 sectors\n",
    "df['growth_rate_10S'] = df['NumNewCompanies_10S'] / df['NumCompanies_10S']\n",
    "\n",
    "# Calculate ratios adjusting by the number of companies in the 10 sectors in business variables\n",
    "df['companies_size_ratio_10S'] = df['NumCompanies_ML_10S'] / df['NumCompanies_10S']\n",
    "df['companies_profit_ratio_10S'] = df['NumCompanies_HP_10S'] / df['NumCompanies_10S']\n",
    "\n",
    "# Some created ratios have missing values because both the numerator and denominator of the ratio are zeros. Therefore, we impute these values ​​as zeros.\n",
    "df.fillna(0, inplace=True)"
   ]
  },
  {
   "cell_type": "code",
   "execution_count": 99,
   "id": "2684b48a",
   "metadata": {},
   "outputs": [],
   "source": [
    "# Select raw features for scaling\n",
    "features_to_scale = ['high_district', 'high_district_ratio', 'professionals_district', 'professionals_district_ratio', 'NumCompanies_10S', 'growth_rate_10S', 'NumNewCompanies_10S', 'NumCompanies_ML_10S', 'companies_size_ratio_10S', 'NumCompanies_HP_10S', 'companies_profit_ratio_10S', 'banks_total']\n",
    "\n",
    "scaler = MinMaxScaler()\n",
    "scaled_array = scaler.fit_transform(df[features_to_scale])\n",
    "scaled_df = pd.DataFrame(scaled_array, columns=features_to_scale, index=df.index)\n",
    "\n",
    "# Create engineered features from scaled data \n",
    "# sociodemo_Score: Considera la frecuencia de personas de altos ingresos y profesionales y el porcentaje de ambos en la población de cada distrito  \n",
    "df['sociodemo_Score'] = (\n",
    "    scaled_df['high_district'] +\n",
    "    scaled_df['high_district_ratio'] +\n",
    "    scaled_df['professionals_district'] +\n",
    "    scaled_df['professionals_district_ratio']\n",
    ")\n",
    "\n",
    "# Business_Score: 60%: Considera la frecuencia de empresas medianas y grandes de los 10 sectores y el porcentaje de ellas en el total de empresas de los 10 sectores.\n",
    "# 40%: Considera la frecuencia de empresas high profit de los 10 sectores y el porcentaje de ellas en el total de empresas de los 10 sectores, además del número de nuevas empresas de los 10 sectores y la tasa de crecimiento de los 10 sectores.\n",
    "df['Business_Score'] = (0.6*(scaled_df['NumCompanies_ML_10S'] + scaled_df['companies_size_ratio_10S']) + \n",
    "                        0.4*(scaled_df['NumCompanies_HP_10S'] + scaled_df['companies_profit_ratio_10S'] + scaled_df['NumNewCompanies_10S'] + scaled_df['growth_rate_10S']))\n",
    "\n",
    "df['Competitor_Score'] = scaled_df['banks_total']"
   ]
  },
  {
   "cell_type": "markdown",
   "id": "b3eecfc8",
   "metadata": {},
   "source": [
    "SECTION 4: CLUSTERING"
   ]
  },
  {
   "cell_type": "code",
   "execution_count": 100,
   "id": "3fc71d50",
   "metadata": {},
   "outputs": [
    {
     "name": "stdout",
     "output_type": "stream",
     "text": [
      "hdbscan_cluster\n",
      "-1     1061\n",
      " 0       18\n",
      " 1       38\n",
      " 2       19\n",
      " 3       52\n",
      " 4       23\n",
      " 5       15\n",
      " 6      164\n",
      " 7       23\n",
      " 8       31\n",
      " 9       19\n",
      " 10      22\n",
      "Name: count, dtype: int64\n"
     ]
    }
   ],
   "source": [
    "# Selección de features: los nuevos scores que has calculado\n",
    "score_features = [\n",
    "    'sociodemo_Score',  \n",
    "    'Business_Score', \n",
    "    'Competitor_Score'\n",
    "]\n",
    "\n",
    "# Escalar por si acaso (aunque ya están normalizados)\n",
    "from sklearn.preprocessing import StandardScaler\n",
    "scaler = StandardScaler()\n",
    "X_scaled = scaler.fit_transform(df[score_features])\n",
    "\n",
    "# Aplicar HDBSCAN\n",
    "clusterer = hdbscan.HDBSCAN(min_cluster_size=11, prediction_data=True)\n",
    "df['hdbscan_cluster'] = clusterer.fit_predict(X_scaled)\n",
    "\n",
    "# Revisar número de clusters detectados\n",
    "print(df['hdbscan_cluster'].value_counts().sort_index())\n"
   ]
  },
  {
   "cell_type": "code",
   "execution_count": 101,
   "id": "85761ee5",
   "metadata": {},
   "outputs": [
    {
     "data": {
      "application/vnd.microsoft.datawrangler.viewer.v0+json": {
       "columns": [
        {
         "name": "hdbscan_cluster",
         "rawType": "int64",
         "type": "integer"
        },
        {
         "name": "sociodemo_Score",
         "rawType": "float64",
         "type": "float"
        },
        {
         "name": "Business_Score",
         "rawType": "float64",
         "type": "float"
        },
        {
         "name": "Competitor_Score",
         "rawType": "float64",
         "type": "float"
        }
       ],
       "conversionMethod": "pd.DataFrame",
       "ref": "24f51036-15fe-4dec-9e08-42a54c8be5bb",
       "rows": [
        [
         "-1",
         "0.7496233404577684",
         "0.0714555988187069",
         "0.03142429450573821"
        ],
        [
         "0",
         "0.7077052475509128",
         "0.044355527272024256",
         "0.023529411764705882"
        ],
        [
         "1",
         "1.0016609721905847",
         "0.039020128098757864",
         "0.011764705882352941"
        ],
        [
         "2",
         "0.5716375938602742",
         "0.03411928379328949",
         "0.011764705882352941"
        ],
        [
         "3",
         "0.752111132714287",
         "0.03899489374173651",
         "0.011764705882352943"
        ],
        [
         "4",
         "0.8632730798245972",
         "0.09136968956521976",
         "0.0"
        ],
        [
         "5",
         "0.9924930250146531",
         "0.002145745329447993",
         "0.0"
        ],
        [
         "6",
         "0.6915079069309198",
         "0.038551292290866776",
         "0.0"
        ],
        [
         "7",
         "0.5067192521236624",
         "0.0",
         "0.0"
        ],
        [
         "8",
         "0.642306283991768",
         "0.0",
         "0.0"
        ],
        [
         "9",
         "0.8148245098125102",
         "0.0",
         "0.0"
        ],
        [
         "10",
         "0.7487200601808108",
         "0.0",
         "0.0"
        ]
       ],
       "shape": {
        "columns": 3,
        "rows": 12
       }
      },
      "text/html": [
       "<div>\n",
       "<style scoped>\n",
       "    .dataframe tbody tr th:only-of-type {\n",
       "        vertical-align: middle;\n",
       "    }\n",
       "\n",
       "    .dataframe tbody tr th {\n",
       "        vertical-align: top;\n",
       "    }\n",
       "\n",
       "    .dataframe thead th {\n",
       "        text-align: right;\n",
       "    }\n",
       "</style>\n",
       "<table border=\"1\" class=\"dataframe\">\n",
       "  <thead>\n",
       "    <tr style=\"text-align: right;\">\n",
       "      <th></th>\n",
       "      <th>sociodemo_Score</th>\n",
       "      <th>Business_Score</th>\n",
       "      <th>Competitor_Score</th>\n",
       "    </tr>\n",
       "    <tr>\n",
       "      <th>hdbscan_cluster</th>\n",
       "      <th></th>\n",
       "      <th></th>\n",
       "      <th></th>\n",
       "    </tr>\n",
       "  </thead>\n",
       "  <tbody>\n",
       "    <tr>\n",
       "      <th>-1</th>\n",
       "      <td>0.749623</td>\n",
       "      <td>0.071456</td>\n",
       "      <td>0.031424</td>\n",
       "    </tr>\n",
       "    <tr>\n",
       "      <th>0</th>\n",
       "      <td>0.707705</td>\n",
       "      <td>0.044356</td>\n",
       "      <td>0.023529</td>\n",
       "    </tr>\n",
       "    <tr>\n",
       "      <th>1</th>\n",
       "      <td>1.001661</td>\n",
       "      <td>0.039020</td>\n",
       "      <td>0.011765</td>\n",
       "    </tr>\n",
       "    <tr>\n",
       "      <th>2</th>\n",
       "      <td>0.571638</td>\n",
       "      <td>0.034119</td>\n",
       "      <td>0.011765</td>\n",
       "    </tr>\n",
       "    <tr>\n",
       "      <th>3</th>\n",
       "      <td>0.752111</td>\n",
       "      <td>0.038995</td>\n",
       "      <td>0.011765</td>\n",
       "    </tr>\n",
       "    <tr>\n",
       "      <th>4</th>\n",
       "      <td>0.863273</td>\n",
       "      <td>0.091370</td>\n",
       "      <td>0.000000</td>\n",
       "    </tr>\n",
       "    <tr>\n",
       "      <th>5</th>\n",
       "      <td>0.992493</td>\n",
       "      <td>0.002146</td>\n",
       "      <td>0.000000</td>\n",
       "    </tr>\n",
       "    <tr>\n",
       "      <th>6</th>\n",
       "      <td>0.691508</td>\n",
       "      <td>0.038551</td>\n",
       "      <td>0.000000</td>\n",
       "    </tr>\n",
       "    <tr>\n",
       "      <th>7</th>\n",
       "      <td>0.506719</td>\n",
       "      <td>0.000000</td>\n",
       "      <td>0.000000</td>\n",
       "    </tr>\n",
       "    <tr>\n",
       "      <th>8</th>\n",
       "      <td>0.642306</td>\n",
       "      <td>0.000000</td>\n",
       "      <td>0.000000</td>\n",
       "    </tr>\n",
       "    <tr>\n",
       "      <th>9</th>\n",
       "      <td>0.814825</td>\n",
       "      <td>0.000000</td>\n",
       "      <td>0.000000</td>\n",
       "    </tr>\n",
       "    <tr>\n",
       "      <th>10</th>\n",
       "      <td>0.748720</td>\n",
       "      <td>0.000000</td>\n",
       "      <td>0.000000</td>\n",
       "    </tr>\n",
       "  </tbody>\n",
       "</table>\n",
       "</div>"
      ],
      "text/plain": [
       "                 sociodemo_Score  Business_Score  Competitor_Score\n",
       "hdbscan_cluster                                                   \n",
       "-1                      0.749623        0.071456          0.031424\n",
       " 0                      0.707705        0.044356          0.023529\n",
       " 1                      1.001661        0.039020          0.011765\n",
       " 2                      0.571638        0.034119          0.011765\n",
       " 3                      0.752111        0.038995          0.011765\n",
       " 4                      0.863273        0.091370          0.000000\n",
       " 5                      0.992493        0.002146          0.000000\n",
       " 6                      0.691508        0.038551          0.000000\n",
       " 7                      0.506719        0.000000          0.000000\n",
       " 8                      0.642306        0.000000          0.000000\n",
       " 9                      0.814825        0.000000          0.000000\n",
       " 10                     0.748720        0.000000          0.000000"
      ]
     },
     "execution_count": 101,
     "metadata": {},
     "output_type": "execute_result"
    }
   ],
   "source": [
    "df[df['hdbscan_cluster'] >= -1].groupby('hdbscan_cluster')[\n",
    "    ['sociodemo_Score', 'Business_Score', 'Competitor_Score']\n",
    "].mean()"
   ]
  },
  {
   "cell_type": "markdown",
   "id": "87a1d896",
   "metadata": {},
   "source": [
    "SECTION 5: ZONE SCORE"
   ]
  },
  {
   "cell_type": "code",
   "execution_count": 102,
   "id": "a5975259",
   "metadata": {},
   "outputs": [
    {
     "data": {
      "application/vnd.microsoft.datawrangler.viewer.v0+json": {
       "columns": [
        {
         "name": "index",
         "rawType": "int64",
         "type": "integer"
        },
        {
         "name": "district",
         "rawType": "object",
         "type": "string"
        },
        {
         "name": "Zone_Score",
         "rawType": "float64",
         "type": "float"
        },
        {
         "name": "hdbscan_cluster",
         "rawType": "int64",
         "type": "integer"
        }
       ],
       "conversionMethod": "pd.DataFrame",
       "ref": "8043f666-870c-424e-8a27-40f73b8ec0b5",
       "rows": [
        [
         "0",
         "821704",
         "0.9703624553839822",
         "-1"
        ],
        [
         "1",
         "807705",
         "0.9031364309947143",
         "-1"
        ],
        [
         "2",
         "807707",
         "0.894691724872087",
         "-1"
        ],
        [
         "3",
         "2816201",
         "0.857745697504403",
         "-1"
        ],
        [
         "4",
         "2809301",
         "0.7924638784053591",
         "-1"
        ],
        [
         "5",
         "2816901",
         "0.7900524339834796",
         "-1"
        ],
        [
         "6",
         "2801701",
         "0.7767341523790469",
         "-1"
        ],
        [
         "7",
         "1703201",
         "0.7725015878739302",
         "-1"
        ],
        [
         "8",
         "2506201",
         "0.7717625827303907",
         "-1"
        ],
        [
         "9",
         "807706",
         "0.7696901062121952",
         "-1"
        ]
       ],
       "shape": {
        "columns": 3,
        "rows": 10
       }
      },
      "text/html": [
       "<div>\n",
       "<style scoped>\n",
       "    .dataframe tbody tr th:only-of-type {\n",
       "        vertical-align: middle;\n",
       "    }\n",
       "\n",
       "    .dataframe tbody tr th {\n",
       "        vertical-align: top;\n",
       "    }\n",
       "\n",
       "    .dataframe thead th {\n",
       "        text-align: right;\n",
       "    }\n",
       "</style>\n",
       "<table border=\"1\" class=\"dataframe\">\n",
       "  <thead>\n",
       "    <tr style=\"text-align: right;\">\n",
       "      <th></th>\n",
       "      <th>district</th>\n",
       "      <th>Zone_Score</th>\n",
       "      <th>hdbscan_cluster</th>\n",
       "    </tr>\n",
       "  </thead>\n",
       "  <tbody>\n",
       "    <tr>\n",
       "      <th>0</th>\n",
       "      <td>821704</td>\n",
       "      <td>0.970362</td>\n",
       "      <td>-1</td>\n",
       "    </tr>\n",
       "    <tr>\n",
       "      <th>1</th>\n",
       "      <td>807705</td>\n",
       "      <td>0.903136</td>\n",
       "      <td>-1</td>\n",
       "    </tr>\n",
       "    <tr>\n",
       "      <th>2</th>\n",
       "      <td>807707</td>\n",
       "      <td>0.894692</td>\n",
       "      <td>-1</td>\n",
       "    </tr>\n",
       "    <tr>\n",
       "      <th>3</th>\n",
       "      <td>2816201</td>\n",
       "      <td>0.857746</td>\n",
       "      <td>-1</td>\n",
       "    </tr>\n",
       "    <tr>\n",
       "      <th>4</th>\n",
       "      <td>2809301</td>\n",
       "      <td>0.792464</td>\n",
       "      <td>-1</td>\n",
       "    </tr>\n",
       "    <tr>\n",
       "      <th>5</th>\n",
       "      <td>2816901</td>\n",
       "      <td>0.790052</td>\n",
       "      <td>-1</td>\n",
       "    </tr>\n",
       "    <tr>\n",
       "      <th>6</th>\n",
       "      <td>2801701</td>\n",
       "      <td>0.776734</td>\n",
       "      <td>-1</td>\n",
       "    </tr>\n",
       "    <tr>\n",
       "      <th>7</th>\n",
       "      <td>1703201</td>\n",
       "      <td>0.772502</td>\n",
       "      <td>-1</td>\n",
       "    </tr>\n",
       "    <tr>\n",
       "      <th>8</th>\n",
       "      <td>2506201</td>\n",
       "      <td>0.771763</td>\n",
       "      <td>-1</td>\n",
       "    </tr>\n",
       "    <tr>\n",
       "      <th>9</th>\n",
       "      <td>807706</td>\n",
       "      <td>0.769690</td>\n",
       "      <td>-1</td>\n",
       "    </tr>\n",
       "  </tbody>\n",
       "</table>\n",
       "</div>"
      ],
      "text/plain": [
       "  district  Zone_Score  hdbscan_cluster\n",
       "0   821704    0.970362               -1\n",
       "1   807705    0.903136               -1\n",
       "2   807707    0.894692               -1\n",
       "3  2816201    0.857746               -1\n",
       "4  2809301    0.792464               -1\n",
       "5  2816901    0.790052               -1\n",
       "6  2801701    0.776734               -1\n",
       "7  1703201    0.772502               -1\n",
       "8  2506201    0.771763               -1\n",
       "9   807706    0.769690               -1"
      ]
     },
     "execution_count": 102,
     "metadata": {},
     "output_type": "execute_result"
    }
   ],
   "source": [
    "# Compute Zone_Score using weighted business logic (manual inputs for weights)\n",
    "df['Zone_Score'] = (\n",
    "    0.4 * df['sociodemo_Score'] +\n",
    "    0.4 * df['Business_Score'] -\n",
    "    0.20 * df['Competitor_Score']\n",
    ")\n",
    "\n",
    "# Get top 10 zones per region\n",
    "top10 = df.nlargest(10, 'Zone_Score')[['district', 'Zone_Score', 'hdbscan_cluster']]\n",
    "top10.reset_index(drop=True)"
   ]
  }
 ],
 "metadata": {
  "kernelspec": {
   "display_name": "base",
   "language": "python",
   "name": "python3"
  },
  "language_info": {
   "codemirror_mode": {
    "name": "ipython",
    "version": 3
   },
   "file_extension": ".py",
   "mimetype": "text/x-python",
   "name": "python",
   "nbconvert_exporter": "python",
   "pygments_lexer": "ipython3",
   "version": "3.12.4"
  }
 },
 "nbformat": 4,
 "nbformat_minor": 5
}
